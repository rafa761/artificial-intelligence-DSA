{
 "cells": [
  {
   "cell_type": "markdown",
   "metadata": {},
   "source": [
    "# Gerando Graficos com Matploitlib"
   ]
  },
  {
   "cell_type": "markdown",
   "metadata": {},
   "source": [
    "## Estou utilizando a base \"base_teste2.db\" criada em outro programa"
   ]
  },
  {
   "cell_type": "code",
   "execution_count": 1,
   "metadata": {},
   "outputs": [],
   "source": [
    "import sqlite3\n",
    "# Importa modulo de montar graficos do matplotlib\n",
    "import matplotlib.pyplot as plt\n",
    "\n",
    "#Esta magic command do jupyter indica que o grafico deve ser gerado na mesma janela\n",
    "%matplotlib notebook\n",
    "\n",
    "banco = \"base_teste2.db\"\n",
    "\n",
    "conexao = sqlite3.Connection(banco)\n",
    "cursor = conexao.cursor()\n",
    "\n",
    "def busca_dados_grafico():\n",
    "    cursor.execute(\"select id, valor from produtos\")\n",
    "    lista_id = []\n",
    "    lista_valor = []\n",
    "    dados = cursor.fetchall()\n",
    "    \n",
    "    for linha in dados:\n",
    "        lista_id.append(linha[0])\n",
    "        lista_valor.append(linha[1])\n",
    "        \n",
    "    # MEtodos do matplotlib para montar o grafico\n",
    "    plt.bar(lista_id, lista_valor)\n",
    "    plt.show()\n",
    "    "
   ]
  },
  {
   "cell_type": "code",
   "execution_count": 2,
   "metadata": {},
   "outputs": [
    {
     "data": {
      "image/png": "[encoded data removed]",
      "text/plain": [
       "<Figure size 432x288 with 1 Axes>"
      ]
     },
     "metadata": {
      "needs_background": "light"
     },
     "output_type": "display_data"
    }
   ],
   "source": [
    "busca_dados_grafico()"
   ]
  },
  {
   "cell_type": "code",
   "execution_count": null,
   "metadata": {},
   "outputs": [],
   "source": []
  }
 ],
 "metadata": {
  "kernelspec": {
   "display_name": "Python 3",
   "language": "python",
   "name": "python3"
  },
  "language_info": {
   "codemirror_mode": {
    "name": "ipython",
    "version": 3
   },
   "file_extension": ".py",
   "mimetype": "text/x-python",
   "name": "python",
   "nbconvert_exporter": "python",
   "pygments_lexer": "ipython3",
   "version": "3.7.1"
  }
 },
 "nbformat": 4,
 "nbformat_minor": 2
}
