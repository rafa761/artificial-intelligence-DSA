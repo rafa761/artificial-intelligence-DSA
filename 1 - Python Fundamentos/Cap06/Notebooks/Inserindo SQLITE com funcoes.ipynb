{
 "cells": [
  {
   "cell_type": "markdown",
   "metadata": {},
   "source": [
    "# Inserindo dados no SQLITE com funcoes"
   ]
  },
  {
   "cell_type": "code",
   "execution_count": 10,
   "metadata": {},
   "outputs": [],
   "source": [
    "import sqlite3\n",
    "from random import randint\n",
    "from datetime import datetime\n",
    "from time import sleep\n",
    "from os import remove\n",
    "from os.path import exists\n",
    "\n",
    "# Remove Base Antiga\n",
    "nome_base = \"base_teste2.db\"\n",
    "remove(nome_base) if exists(nome_base) else None"
   ]
  },
  {
   "cell_type": "code",
   "execution_count": 11,
   "metadata": {},
   "outputs": [],
   "source": [
    "# Cria nova base\n",
    "with sqlite3.Connection(nome_base) as conexao:\n",
    "    cursor = conexao.cursor()"
   ]
  },
  {
   "cell_type": "code",
   "execution_count": 19,
   "metadata": {},
   "outputs": [],
   "source": [
    "# Funcao para criar tabela\n",
    "def cria_tabela():\n",
    "    cursor.execute(\"\"\"create table if not exists produtos(\n",
    "    id integer primary key autoincrement not null,\n",
    "    data text,\n",
    "    nome_produto text,\n",
    "    valor real) \"\"\")    "
   ]
  },
  {
   "cell_type": "code",
   "execution_count": 20,
   "metadata": {},
   "outputs": [],
   "source": [
    "# Chama criacao da tabela\n",
    "cria_tabela()"
   ]
  },
  {
   "cell_type": "code",
   "execution_count": 21,
   "metadata": {},
   "outputs": [],
   "source": [
    "# Funcao para inserir registro\n",
    "def insere_linha():\n",
    "    cursor.execute(\"INSERT INTO produtos VALUES('2018-05-02 12:34:45', 'Teclado', 130.00 )\")\n",
    "    cursor.commit()\n",
    "    cursor.close()\n",
    "    conexao.close()"
   ]
  },
  {
   "cell_type": "code",
   "execution_count": 24,
   "metadata": {},
   "outputs": [],
   "source": [
    "# FUncao para inserir dados com parametros\n",
    "def insere_registro():\n",
    "    nova_data = datetime.now()\n",
    "    nome = \"mouse gamer\"\n",
    "    novo_valor = randint(1,1000)\n",
    "    cursor.execute(f\"insert into produtos (data, nome_produto, valor) values ('{nova_data}', '{nome}', {novo_valor})\")\n",
    "    conexao.commit()"
   ]
  },
  {
   "cell_type": "code",
   "execution_count": 25,
   "metadata": {},
   "outputs": [
    {
     "name": "stdout",
     "output_type": "stream",
     "text": [
      "Inserindo Registro:  0\n",
      "Inserindo Registro:  1\n",
      "Inserindo Registro:  2\n",
      "Inserindo Registro:  3\n",
      "Inserindo Registro:  4\n",
      "Inserindo Registro:  5\n",
      "Inserindo Registro:  6\n",
      "Inserindo Registro:  7\n",
      "Inserindo Registro:  8\n",
      "Inserindo Registro:  9\n"
     ]
    }
   ],
   "source": [
    "# Gerando valores e inserindo na tabela\n",
    "for registro in range(10):\n",
    "    print(\"Inserindo Registro: \", registro)\n",
    "    insere_registro()\n",
    "    sleep(1)"
   ]
  },
  {
   "cell_type": "code",
   "execution_count": 26,
   "metadata": {},
   "outputs": [
    {
     "name": "stdout",
     "output_type": "stream",
     "text": [
      "(1, '2019-03-02 14:36:57.213795', 'mouse gamer', 780.0)\n",
      "(2, '2019-03-02 14:36:58.241786', 'mouse gamer', 468.0)\n",
      "(3, '2019-03-02 14:36:59.269405', 'mouse gamer', 269.0)\n",
      "(4, '2019-03-02 14:37:00.327169', 'mouse gamer', 583.0)\n",
      "(5, '2019-03-02 14:37:01.353121', 'mouse gamer', 312.0)\n",
      "(6, '2019-03-02 14:37:02.404997', 'mouse gamer', 630.0)\n",
      "(7, '2019-03-02 14:37:03.515365', 'mouse gamer', 348.0)\n",
      "(8, '2019-03-02 14:37:04.523482', 'mouse gamer', 898.0)\n",
      "(9, '2019-03-02 14:37:05.538349', 'mouse gamer', 391.0)\n",
      "(10, '2019-03-02 14:37:06.568999', 'mouse gamer', 566.0)\n"
     ]
    }
   ],
   "source": [
    "#Mostra registros da tabela\n",
    "sql_select = \"select * from produtos\"\n",
    "\n",
    "cursor.execute(sql_select)\n",
    "\n",
    "dados = cursor.fetchall()\n",
    "\n",
    "for registro in dados:\n",
    "    print(registro)\n",
    "\n"
   ]
  },
  {
   "cell_type": "code",
   "execution_count": 28,
   "metadata": {},
   "outputs": [],
   "source": [
    "# Fecha Conexao\n",
    "cursor.close()\n",
    "conexao.close()"
   ]
  }
 ],
 "metadata": {
  "kernelspec": {
   "display_name": "Python 3",
   "language": "python",
   "name": "python3"
  },
  "language_info": {
   "codemirror_mode": {
    "name": "ipython",
    "version": 3
   },
   "file_extension": ".py",
   "mimetype": "text/x-python",
   "name": "python",
   "nbconvert_exporter": "python",
   "pygments_lexer": "ipython3",
   "version": "3.7.1"
  }
 },
 "nbformat": 4,
 "nbformat_minor": 2
}
