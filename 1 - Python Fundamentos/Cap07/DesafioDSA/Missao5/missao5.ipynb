# %% markdown
# # <font color='blue'>Data Science Academy - Python Fundamentos - Capítulo 7</font>
#
# ## Download: http://github.com/dsacademybr
# %% markdown
# ## Missão: Analisar o Comportamento de Compra de Consumidores.
# %% markdown
# ## Nível de Dificuldade: Alto
# %% markdown
# Você recebeu a tarefa de analisar os dados de compras de um web site! Os dados estão no formato JSON e disponíveis junto com este notebook.
#
# No site, cada usuário efetua login usando sua conta pessoal e pode adquirir produtos à medida que navega pela lista de produtos oferecidos. Cada produto possui um valor de venda. Dados de idade e sexo de cada usuário foram coletados e estão fornecidos no arquivo JSON.
#
# Seu trabalho é entregar uma análise de comportamento de compra dos consumidores. Esse é um tipo de atividade comum realizado por Cientistas de Dados e o resultado deste trabalho pode ser usado, por exemplo, para alimentar um modelo de Machine Learning e fazer previsões sobre comportamentos futuros.
#
# Mas nesta missão você vai analisar o comportamento de compra dos consumidores usando o pacote Pandas da linguagem Python e seu relatório final deve incluir cada um dos seguintes itens:
#
# ** Contagem de Consumidores **
#
# * Número total de consumidores
#
#
# ** Análise Geral de Compras **
#
# * Número de itens exclusivos
# * Preço médio de compra
# * Número total de compras
# * Rendimento total
#
#
# ** Informações Demográficas Por Gênero **
#
# * Porcentagem e contagem de compradores masculinos
# * Porcentagem e contagem de compradores do sexo feminino
# * Porcentagem e contagem de outros / não divulgados
#
#
# ** Análise de Compras Por Gênero **
#
# * Número de compras
# * Preço médio de compra
# * Valor Total de Compra
# * Compras for faixa etária
#
#
# ** Identifique os 5 principais compradores pelo valor total de compra e, em seguida, liste (em uma tabela): **
#
# * Login
# * Número de compras
# * Preço médio de compra
# * Valor Total de Compra
# * Itens mais populares
#
#
# ** Identifique os 5 itens mais populares por contagem de compras e, em seguida, liste (em uma tabela): **
#
# * ID do item
# * Nome do item
# * Número de compras
# * Preço do item
# * Valor Total de Compra
# * Itens mais lucrativos
#
#
# ** Identifique os 5 itens mais lucrativos pelo valor total de compra e, em seguida, liste (em uma tabela): **
#
# * ID do item
# * Nome do item
# * Número de compras
# * Preço do item
# * Valor Total de Compra
#
#
# ** Como considerações finais: **
#
# * Seu script deve funcionar para o conjunto de dados fornecido.
# * Você deve usar a Biblioteca Pandas e o Jupyter Notebook.

# %%
# Imports
import pandas as pd
import numpy as np
# %%
# Carrega o arquivo
caminho_arquivo = "C:\\PythonProjetos\\Cursos_e_Aprendizado\\Curso I.A. Data Science Academy\\1 - Python Fundamentos\\Cap07\\DesafioDSA\\Missao5"
load_file = caminho_arquivo + "\\" + "dados_compras.json"
purchase_file = pd.read_json(load_file, orient = "records")
purchase_file.head()
# %% markdown
# ## Informações Sobre os Consumidores
# %%
consumidores = purchase_file.loc[:, ['Sexo', 'Login', 'Idade']]
consumidores.head()
# %%
# numero Total de Consumidores
consumidores = consumidores.drop_duplicates()
contaConsumidor = consumidores.count()[0]

pd.DataFrame({"Total Consumidores": [contaConsumidor]})
# %% markdown
# ## Análise Geral de Compras
# %%
# Número de itens exclusivos
# Preço médio de compra
# Número total de compras
# Rendimento total

media_valor = purchase_file['Valor'].mean()
valor_total = purchase_file['Valor'].sum()
qtd_items = purchase_file['Valor'].count()
qtd_unicos = len(purchase_file['Item ID'].unique())

# DataFrame para os resultados
frameResultado = pd.DataFrame( {"Itens Unicos": qtd_unicos,
                               "Qtd Copras": qtd_items,
                               "Total": valor_total,
                               "Preço Medio": [media_valor]} )


frameResultado = frameResultado.round(2)
frameResultado['Preço Medio'] = frameResultado['Preço Medio'].map("${:,.2f}".format)
frameResultado['Total'] = frameResultado['Total'].map("${:,.2f}".format)
frameResultado = frameResultado.loc[:, ["Itens Unicos", "Preço Medio", "Qtd Copras", "Total"  ]]

frameResultado

# %%
purchase_file['Item ID'].unique()
# %% markdown
# ## Análise Demográfica
# %%
# Implemente aqui sua solução
contaGenero = consumidores['Sexo'].value_counts()
percGenero = (contaGenero / contaConsumidor) * 100

frameDemograph = pd.DataFrame({"Sexo": contaGenero,
                              "%": percGenero})

frameDemograph = frameDemograph.round(2)
frameDemograph["%"] = frameDemograph["%"].map("{:,.1f}%".format)
# %%
contaGenero
# %%
percGenero
# %%
frameDemograph
# %% markdown
# ## Análise de Compras Por Gênero
# %%
# Número de compras
# Preço médio de compra
# Valor Total de Compra
# Compras for faixa etária

total_vendas = purchase_file.groupby(["Sexo"]).sum()["Valor"].rename("Total de Vendas")
media_preco = purchase_file.groupby(["Sexo"]).mean()["Valor"].rename("Media Preco")
qtd_venda = purchase_file.groupby(["Sexo"]).count()["Valor"].rename("Qtd Compras")
total_normalizado = total_vendas / frameDemograph["Sexo"]

# armazena Resultado em DataFrame
frameCompraGenero = pd.DataFrame({"Qtd Compras": qtd_venda,
                                 "Valor Medio Item": media_preco,
                                 "Total de Vendas": total_vendas,
                                 "Total Normalizado": total_normalizado})


frameCompraGenero = frameCompraGenero.round(2)
# frameCompraGenero["Qtd Compras"] = frameCompraGenero["Qtd Compras"].map("{:,.0f}".format)
frameCompraGenero["Valor Medio Item"] = frameCompraGenero["Valor Medio Item"].map("${:,.2f}".format)
frameCompraGenero["Total de Vendas"] = frameCompraGenero["Total de Vendas"].map("${:,.2f}".format)
frameCompraGenero["Total Normalizado"] = frameCompraGenero["Total Normalizado"].map("${:,.2f}".format)
# %%
total_vendas
# %%
media_preco
# %%
qtd_venda
# %%
total_normalizado
# %%
frameCompraGenero
# %% markdown
# ## Demografica
# %%
# calculo basico
idade_faixa = [0, 9.99, 14.99, 19.99, 24.99, 29.99, 34.99, 39.99, 999]
idade_faixa_nome = ["Menos de 10", "10 a 14", "15 a 19", "20 a 24", "25 a 29", "30 a 34", "35 a 39", "Mais de 40"]


# Cria uma nova coluna no DataFrame com o Range
purchase_file["Range de Idades"] = pd.cut(purchase_file["Idade"], idade_faixa, labels=idade_faixa_nome  )


# Calculos Basicos
qtd_idade = purchase_file["Range de Idades"].value_counts()
preco_unitario = purchase_file.groupby(["Range de Idades"]).mean()["Valor"]
valor_total = purchase_file.groupby(["Range de Idades"]).sum()["Valor"]
percentual = (qtd_idade / contaConsumidor) * 100

# DataFrame para os resultados
idadeDemograph = pd.DataFrame({"Contagem": qtd_idade, "%": percentual, "Valor Unitario": preco_unitario, "Valor Total Compra": valor_total})

# Data Munging
idadeDemograph = idadeDemograph.round(2)
idadeDemograph["Valor Unitario"] = idadeDemograph["Valor Unitario"].map("${:,.2f}".format)
idadeDemograph["Valor Total Compra"] = idadeDemograph["Valor Total Compra"].map("${:,.2f}".format)
idadeDemograph["%"] = idadeDemograph["%"].map("{:,.2f}%".format)

# %%
idadeDemograph.head()
# %%
# Resultado
idadeDemograph = idadeDemograph.sort_index()
idadeDemograph
# %% markdown
# ## Consumidores Mais Populares (Top 5)
# %%
# Identifique os 5 principais compradores pelo valor total de compra e, em seguida, liste (em uma tabela):
# Login
# Número de compras
# Preço médio de compra
# Valor Total de Compra
# Itens mais populares

# Armazena os totais
user_total = purchase_file.groupby(["Login"]).sum()["Valor"].rename("Valor Total de Compra")
user_average = purchase_file.groupby(["Login"]).mean()["Valor"].rename("Valor Médio de Compras")
user_count = purchase_file.groupby(["Login"]).count()["Valor"].rename("QTD Compras")

# Data Frame dos resultados
userTotal = pd.DataFrame({"Valor Total de Compra": user_total, "Valor Médio de Compras": user_average, "QTD Compras": user_count})

# Data Munging
# userTotal = userTotal.round(2)
userTotal["Valor Total de Compra"] = userTotal["Valor Total de Compra"].map("${:,.2f}".format)
userTotal["Valor Médio de Compras"] = userTotal["Valor Médio de Compras"].map("${:,.2f}".format)

# Ordena e mostra somente os 5 primeiros
userTotal.sort_values("Valor Total de Compra", ascending=False).head()

# %%
userTotal
# %% markdown
# ## Itens Mais Populares
# %%
# Identifique os 5 itens mais populares por contagem de compras e, em seguida, liste (em uma tabela):
# ID do item
# Nome do item
# Número de compras
# Preço do item
# Valor Total de Compra
# Itens mais lucrativos

# Armazena os agrupamentos
item_total = purchase_file.groupby(["Nome do Item"]).sum()["Valor"].rename("Valor Total de Compra")
item_unitario = purchase_file.groupby(["Nome do Item"]).mean()["Valor"].rename("Valor Unitario")
item_qtd = purchase_file.groupby(["Nome do Item"]).count()["Valor"].rename("QTD Compra")


#Data Frame Resultados
itemFrame = pd.DataFrame({"Valor Total de Compra": item_total, "Valor Unitario": item_unitario, "QTD Compra": item_qtd})


# Data Munging
itemFrame["Valor Total de Compra"] = itemFrame["Valor Total de Compra"].map("${:,.2f}".format)
itemFrame["Valor Unitario"] = itemFrame["Valor Unitario"].map("${:,.2f}".format)

# Ordena os itens e mostra os 5 primeiros
itemFrame.sort_values("QTD Compra", ascending=False).head(5)
# %% markdown
# ## Itens Mais Lucrativos
# %%
# Implemente aqui sua solução
# Identifique os 5 itens mais lucrativos pelo valor total de compra e, em seguida, liste (em uma tabela):
# ID do item
# Nome do item
# Número de compras
# Preço do item
# Valor Total de Compra

item_total = purchase_file.groupby(["Nome do Item"]).sum()["Valor"].rename("Valor Total de Compra")
item_unitario = purchase_file.groupby(["Nome do Item"]).mean()["Valor"].rename("Valor Unitario")
item_qtd = purchase_file.groupby(["Nome do Item"]).count()["Valor"].rename("QTD Compras")

itemQTDFrame = pd.DataFrame({"Valor Total de Compra": item_total, "Valor Unitario": item_unitario, "QTD Compras": item_qtd})

# Data Munging
itemQTDFrame["Valor Total de Compra"] = itemQTDFrame["Valor Total de Compra"].map("${:,.2f}".format)
itemQTDFrame["Valor Unitario"] = itemQTDFrame["Valor Unitario"].map("${:,.2f}".format)

# Ordena e mostra somente os 5 primeiros
itemQTDFrame.sort_values("QTD Compras", ascending=False).head(5)
# %% markdown
# ## Fim
# %% markdown
# ### Obrigado - Data Science Academy - <a href="http://facebook.com/dsacademybr">facebook.com/dsacademybr</a>
