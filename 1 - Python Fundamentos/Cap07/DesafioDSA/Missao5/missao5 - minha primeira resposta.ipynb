{
 "cells": [
  {
   "cell_type": "markdown",
   "metadata": {},
   "source": [
    "# <font color='blue'>Data Science Academy - Python Fundamentos - Capítulo 7</font>\n",
    "\n",
    "## Download: http://github.com/dsacademybr"
   ]
  },
  {
   "cell_type": "markdown",
   "metadata": {},
   "source": [
    "## Missão: Analisar o Comportamento de Compra de Consumidores."
   ]
  },
  {
   "cell_type": "markdown",
   "metadata": {},
   "source": [
    "## Nível de Dificuldade: Alto"
   ]
  },
  {
   "cell_type": "markdown",
   "metadata": {},
   "source": [
    "Você recebeu a tarefa de analisar os dados de compras de um web site! Os dados estão no formato JSON e disponíveis junto com este notebook.\n",
    "\n",
    "No site, cada usuário efetua login usando sua conta pessoal e pode adquirir produtos à medida que navega pela lista de produtos oferecidos. Cada produto possui um valor de venda. Dados de idade e sexo de cada usuário foram coletados e estão fornecidos no arquivo JSON.\n",
    "\n",
    "Seu trabalho é entregar uma análise de comportamento de compra dos consumidores. Esse é um tipo de atividade comum realizado por Cientistas de Dados e o resultado deste trabalho pode ser usado, por exemplo, para alimentar um modelo de Machine Learning e fazer previsões sobre comportamentos futuros.\n",
    "\n",
    "Mas nesta missão você vai analisar o comportamento de compra dos consumidores usando o pacote Pandas da linguagem Python e seu relatório final deve incluir cada um dos seguintes itens:\n",
    "\n",
    "** Contagem de Consumidores **\n",
    "\n",
    "* Número total de consumidores\n",
    "\n",
    "\n",
    "** Análise Geral de Compras **\n",
    "\n",
    "* Número de itens exclusivos\n",
    "* Preço médio de compra\n",
    "* Número total de compras\n",
    "* Rendimento total\n",
    "\n",
    "\n",
    "** Informações Demográficas Por Gênero **\n",
    "\n",
    "* Porcentagem e contagem de compradores masculinos\n",
    "* Porcentagem e contagem de compradores do sexo feminino\n",
    "* Porcentagem e contagem de outros / não divulgados\n",
    "\n",
    "\n",
    "** Análise de Compras Por Gênero **\n",
    "\n",
    "* Número de compras\n",
    "* Preço médio de compra\n",
    "* Valor Total de Compra\n",
    "* Compras for faixa etária\n",
    "\n",
    "\n",
    "** Identifique os 5 principais compradores pelo valor total de compra e, em seguida, liste (em uma tabela): **\n",
    "\n",
    "* Login\n",
    "* Número de compras\n",
    "* Preço médio de compra\n",
    "* Valor Total de Compra\n",
    "* Itens mais populares\n",
    "\n",
    "\n",
    "** Identifique os 5 itens mais populares por contagem de compras e, em seguida, liste (em uma tabela): **\n",
    "\n",
    "* ID do item\n",
    "* Nome do item\n",
    "* Número de compras\n",
    "* Preço do item\n",
    "* Valor Total de Compra\n",
    "* Itens mais lucrativos\n",
    "\n",
    "\n",
    "** Identifique os 5 itens mais lucrativos pelo valor total de compra e, em seguida, liste (em uma tabela): **\n",
    "\n",
    "* ID do item\n",
    "* Nome do item\n",
    "* Número de compras\n",
    "* Preço do item\n",
    "* Valor Total de Compra\n",
    "\n",
    "\n",
    "** Como considerações finais: **\n",
    "\n",
    "* Seu script deve funcionar para o conjunto de dados fornecido.\n",
    "* Você deve usar a Biblioteca Pandas e o Jupyter Notebook.\n"
   ]
  },
  {
   "cell_type": "code",
   "execution_count": 1,
   "metadata": {
    "collapsed": true
   },
   "outputs": [],
   "source": [
    "# Imports\n",
    "import pandas as pd\n",
    "import numpy as np"
   ]
  },
  {
   "cell_type": "code",
   "execution_count": 2,
   "metadata": {},
   "outputs": [
    {
     "data": {
      "text/html": [
       "<div>\n",
       "<style scoped>\n",
       "    .dataframe tbody tr th:only-of-type {\n",
       "        vertical-align: middle;\n",
       "    }\n",
       "\n",
       "    .dataframe tbody tr th {\n",
       "        vertical-align: top;\n",
       "    }\n",
       "\n",
       "    .dataframe thead th {\n",
       "        text-align: right;\n",
       "    }\n",
       "</style>\n",
       "<table border=\"1\" class=\"dataframe\">\n",
       "  <thead>\n",
       "    <tr style=\"text-align: right;\">\n",
       "      <th></th>\n",
       "      <th>Idade</th>\n",
       "      <th>Item ID</th>\n",
       "      <th>Login</th>\n",
       "      <th>Nome do Item</th>\n",
       "      <th>Sexo</th>\n",
       "      <th>Valor</th>\n",
       "    </tr>\n",
       "  </thead>\n",
       "  <tbody>\n",
       "    <tr>\n",
       "      <th>0</th>\n",
       "      <td>38</td>\n",
       "      <td>165</td>\n",
       "      <td>Aelalis34</td>\n",
       "      <td>Bone Crushing Silver Skewer</td>\n",
       "      <td>Masculino</td>\n",
       "      <td>3.37</td>\n",
       "    </tr>\n",
       "    <tr>\n",
       "      <th>1</th>\n",
       "      <td>21</td>\n",
       "      <td>119</td>\n",
       "      <td>Eolo46</td>\n",
       "      <td>Stormbringer, Dark Blade of Ending Misery</td>\n",
       "      <td>Masculino</td>\n",
       "      <td>2.32</td>\n",
       "    </tr>\n",
       "    <tr>\n",
       "      <th>2</th>\n",
       "      <td>34</td>\n",
       "      <td>174</td>\n",
       "      <td>Assastnya25</td>\n",
       "      <td>Primitive Blade</td>\n",
       "      <td>Masculino</td>\n",
       "      <td>2.46</td>\n",
       "    </tr>\n",
       "    <tr>\n",
       "      <th>3</th>\n",
       "      <td>21</td>\n",
       "      <td>92</td>\n",
       "      <td>Pheusrical25</td>\n",
       "      <td>Final Critic</td>\n",
       "      <td>Masculino</td>\n",
       "      <td>1.36</td>\n",
       "    </tr>\n",
       "    <tr>\n",
       "      <th>4</th>\n",
       "      <td>23</td>\n",
       "      <td>63</td>\n",
       "      <td>Aela59</td>\n",
       "      <td>Stormfury Mace</td>\n",
       "      <td>Masculino</td>\n",
       "      <td>1.27</td>\n",
       "    </tr>\n",
       "  </tbody>\n",
       "</table>\n",
       "</div>"
      ],
      "text/plain": [
       "   Idade  Item ID         Login                               Nome do Item  \\\n",
       "0     38      165     Aelalis34                Bone Crushing Silver Skewer   \n",
       "1     21      119        Eolo46  Stormbringer, Dark Blade of Ending Misery   \n",
       "2     34      174   Assastnya25                            Primitive Blade   \n",
       "3     21       92  Pheusrical25                               Final Critic   \n",
       "4     23       63        Aela59                             Stormfury Mace   \n",
       "\n",
       "        Sexo  Valor  \n",
       "0  Masculino   3.37  \n",
       "1  Masculino   2.32  \n",
       "2  Masculino   2.46  \n",
       "3  Masculino   1.36  \n",
       "4  Masculino   1.27  "
      ]
     },
     "execution_count": 2,
     "metadata": {},
     "output_type": "execute_result"
    }
   ],
   "source": [
    "# Carrega o arquivo\n",
    "load_file = \"dados_compras.json\"\n",
    "purchase_file = pd.read_json(load_file, orient = \"records\")\n",
    "purchase_file.head()"
   ]
  },
  {
   "cell_type": "markdown",
   "metadata": {},
   "source": [
    "## Informações Sobre os Consumidores"
   ]
  },
  {
   "cell_type": "code",
   "execution_count": 4,
   "metadata": {
    "collapsed": true
   },
   "outputs": [
    {
     "data": {
      "text/html": [
       "<div>\n",
       "<style scoped>\n",
       "    .dataframe tbody tr th:only-of-type {\n",
       "        vertical-align: middle;\n",
       "    }\n",
       "\n",
       "    .dataframe tbody tr th {\n",
       "        vertical-align: top;\n",
       "    }\n",
       "\n",
       "    .dataframe thead th {\n",
       "        text-align: right;\n",
       "    }\n",
       "</style>\n",
       "<table border=\"1\" class=\"dataframe\">\n",
       "  <thead>\n",
       "    <tr style=\"text-align: right;\">\n",
       "      <th></th>\n",
       "      <th>Sexo</th>\n",
       "      <th>Login</th>\n",
       "      <th>Idade</th>\n",
       "    </tr>\n",
       "  </thead>\n",
       "  <tbody>\n",
       "    <tr>\n",
       "      <th>0</th>\n",
       "      <td>Masculino</td>\n",
       "      <td>Aelalis34</td>\n",
       "      <td>38</td>\n",
       "    </tr>\n",
       "    <tr>\n",
       "      <th>1</th>\n",
       "      <td>Masculino</td>\n",
       "      <td>Eolo46</td>\n",
       "      <td>21</td>\n",
       "    </tr>\n",
       "    <tr>\n",
       "      <th>2</th>\n",
       "      <td>Masculino</td>\n",
       "      <td>Assastnya25</td>\n",
       "      <td>34</td>\n",
       "    </tr>\n",
       "    <tr>\n",
       "      <th>3</th>\n",
       "      <td>Masculino</td>\n",
       "      <td>Pheusrical25</td>\n",
       "      <td>21</td>\n",
       "    </tr>\n",
       "    <tr>\n",
       "      <th>4</th>\n",
       "      <td>Masculino</td>\n",
       "      <td>Aela59</td>\n",
       "      <td>23</td>\n",
       "    </tr>\n",
       "  </tbody>\n",
       "</table>\n",
       "</div>"
      ],
      "text/plain": [
       "        Sexo         Login  Idade\n",
       "0  Masculino     Aelalis34     38\n",
       "1  Masculino        Eolo46     21\n",
       "2  Masculino   Assastnya25     34\n",
       "3  Masculino  Pheusrical25     21\n",
       "4  Masculino        Aela59     23"
      ]
     },
     "execution_count": 4,
     "metadata": {},
     "output_type": "execute_result"
    }
   ],
   "source": [
    "consumidores = purchase_file.copy()\n",
    "\n",
    "consumidores = consumidores.loc[:, ['Sexo', 'Login', 'Idade']]\n",
    "consumidores.head()"
   ]
  },
  {
   "cell_type": "code",
   "execution_count": 5,
   "metadata": {},
   "outputs": [
    {
     "data": {
      "text/plain": [
       "'Qtd Consumidores: 573'"
      ]
     },
     "execution_count": 5,
     "metadata": {},
     "output_type": "execute_result"
    }
   ],
   "source": [
    "# numero Total de Consumidores\n",
    "consumidores = consumidores.drop_duplicates()\n",
    "contaConsumidor = consumidores.count()[0]\n",
    "'Qtd Consumidores: ' + str(contaConsumidor)"
   ]
  },
  {
   "cell_type": "markdown",
   "metadata": {},
   "source": [
    "## Análise Geral de Compras"
   ]
  },
  {
   "cell_type": "code",
   "execution_count": 9,
   "metadata": {
    "collapsed": true
   },
   "outputs": [
    {
     "name": "stdout",
     "output_type": "stream",
     "text": [
      "Qtd Itens Exclusivos: 183\n",
      "Preço Médio Venda: $2.93\n",
      "Num Total de Compras: 780\n",
      "Rendimento Total: $2286.33\n"
     ]
    }
   ],
   "source": [
    "# Número de itens exclusivos\n",
    "# Preço médio de compra\n",
    "# Número total de compras\n",
    "# Rendimento total\n",
    "\n",
    "qtd_itens_exclusv = set(purchase_file.get('Item ID'))\n",
    "print(f'Qtd Itens Exclusivos: {len(qtd_itens_exclusv)}')\n",
    "\n",
    "pMediaVenda = np.mean(purchase_file.get('Valor'))\n",
    "print(f'Preço Médio Venda: ${pMediaVenda:.2f}')\n",
    "\n",
    "totCompras = purchase_file.count(0)[1]\n",
    "print(f'Num Total de Compras: {totCompras}')\n",
    "\n",
    "rendTotal = purchase_file.get('Valor')\n",
    "rendTotal = np.sum(rendTotal)\n",
    "print(f'Rendimento Total: ${rendTotal:.2f}')"
   ]
  },
  {
   "cell_type": "markdown",
   "metadata": {},
   "source": [
    "## Análise Demográfica"
   ]
  },
  {
   "cell_type": "code",
   "execution_count": 5,
   "metadata": {
    "collapsed": true
   },
   "outputs": [],
   "source": [
    "# Implemente aqui sua solução"
   ]
  },
  {
   "cell_type": "markdown",
   "metadata": {},
   "source": [
    "## Informações Demográficas Por Gênero"
   ]
  },
  {
   "cell_type": "code",
   "execution_count": 6,
   "metadata": {
    "collapsed": true
   },
   "outputs": [
    {
     "name": "stdout",
     "output_type": "stream",
     "text": [
      "Tot Pessoas: 573\n",
      "Qtd Total Masculino: 465\n",
      "% Compradores Masculinos: 81.15%\n",
      "Qtd Total Feminino: 100\n",
      "% Compradores Femininos: 17.45%\n",
      "Qtd Total Sem Genero: 8\n",
      "% Compradores Sem Genero: 1.40%\n"
     ]
    }
   ],
   "source": [
    "# Porcentagem e contagem de compradores masculinos\n",
    "# Porcentagem e contagem de compradores do sexo feminino\n",
    "# Porcentagem e contagem de outros / não divulgados\n",
    "\n",
    "demographFile = pd.read_json(load_file, orient = \"records\")\n",
    "\n",
    "# print(demographFile.head())\n",
    "\n",
    "# Total de Pessoas\n",
    "qtdTotPessoas = len(set(demographFile.get('Login')))\n",
    "print(f'Tot Pessoas: {qtdTotPessoas}')\n",
    "\n",
    "# Total Compradores Masculinos\n",
    "CompradoresMasc = demographFile.loc[demographFile['Sexo'] == 'Masculino']\n",
    "qtdMasc = len(set(CompradoresMasc.get('Login')))\n",
    "print(f'Qtd Total Masculino: {qtdMasc}')\n",
    "\n",
    "# % Compradores Masculinos\n",
    "percMasc = (qtdMasc * 100) / qtdTotPessoas\n",
    "print(f'% Compradores Masculinos: {percMasc:.2f}%')\n",
    "\n",
    "# Total Compradores Femininos\n",
    "CompradoresFem = demographFile.loc[demographFile['Sexo'] == 'Feminino']\n",
    "qtdFem = len(set(CompradoresFem.get('Login')))\n",
    "print(f'Qtd Total Feminino: {qtdFem}')\n",
    "\n",
    "# % Compradores Femininos\n",
    "percFem = (qtdFem * 100) / qtdTotPessoas\n",
    "print(f'% Compradores Femininos: {percFem:.2f}%')\n",
    "\n",
    "# Total Compradores Sem Sexo Informado\n",
    "CompradoresSemGenero = demographFile.loc[~demographFile['Sexo'].isin(['Masculino', 'Feminino'])]\n",
    "qtdSemGenero = len(set(CompradoresSemGenero.get('Login')))\n",
    "print(f'Qtd Total Sem Genero: {qtdSemGenero}')\n",
    "\n",
    "# % Compradores Sem Genero\n",
    "percSemGenero = (qtdSemGenero * 100) / qtdTotPessoas\n",
    "print(f'% Compradores Sem Genero: {percSemGenero:.2f}%')"
   ]
  },
  {
   "cell_type": "markdown",
   "metadata": {},
   "source": [
    "## Análise de Compras Por Gênero"
   ]
  },
  {
   "cell_type": "code",
   "execution_count": 107,
   "metadata": {
    "collapsed": true
   },
   "outputs": [
    {
     "name": "stdout",
     "output_type": "stream",
     "text": [
      "Qtd Compras por Genero: \n",
      "                        Item ID\n",
      "Sexo                           \n",
      "Feminino                    136\n",
      "Masculino                   633\n",
      "Outro / NÃ£o Divulgado       11\n",
      "\n",
      "Preço Medio por Genero: \n",
      "                           Valor\n",
      "Sexo                            \n",
      "Feminino                2.815515\n",
      "Masculino               2.950521\n",
      "Outro / NÃ£o Divulgado  3.249091\n",
      "\n",
      "Valor Total de Compra por Genero: \n",
      "                          Valor\n",
      "Sexo                           \n",
      "Feminino                 382.91\n",
      "Masculino               1867.68\n",
      "Outro / NÃ£o Divulgado    35.74\n",
      "\n",
      "Compras por Faixa Etaria: \n",
      "       Item ID\n",
      "Idade         \n",
      "7           19\n",
      "8            3\n",
      "9            6\n",
      "10           4\n",
      "11           9\n",
      "12           5\n",
      "13          11\n",
      "14           6\n",
      "15          47\n",
      "16          23\n",
      "17          17\n",
      "18          24\n",
      "19          22\n",
      "20          98\n",
      "21          43\n",
      "22          68\n",
      "23          57\n",
      "24          70\n",
      "25          67\n",
      "26          13\n",
      "27          19\n",
      "28           5\n",
      "29          21\n",
      "30          18\n",
      "31          16\n",
      "32          11\n",
      "33          11\n",
      "34           8\n",
      "35          12\n",
      "36           7\n",
      "37           9\n",
      "38           9\n",
      "39           5\n",
      "40          14\n",
      "42           1\n",
      "43           1\n",
      "45           1\n",
      "\n"
     ]
    }
   ],
   "source": [
    "# Número de compras\n",
    "# Preço médio de compra\n",
    "# Valor Total de Compra\n",
    "# Compras for faixa etária\n",
    "fileGenero = pd.read_json(load_file, orient='records')\n",
    "# print(fileGenero.head())\n",
    "\n",
    "# Numero de Compras por Genero\n",
    "print('Qtd Compras por Genero: ')\n",
    "print(fileGenero.groupby('Sexo').count()[['Item ID']])\n",
    "print()\n",
    "\n",
    "# Preco Medio de Compras por Genero\n",
    "print('Preço Medio por Genero: ')\n",
    "print(fileGenero.groupby('Sexo').mean()[['Valor']])\n",
    "print()\n",
    "\n",
    "# Valor Total de Compra por Genero\n",
    "print('Valor Total de Compra por Genero: ')\n",
    "print(fileGenero.groupby('Sexo').sum()[['Valor']])\n",
    "print()\n",
    "\n",
    "# Compras por Faixa Etaria\n",
    "print('Compras por Faixa Etaria: ')\n",
    "print(fileGenero.groupby('Idade').count()[['Item ID']])\n",
    "print()"
   ]
  },
  {
   "cell_type": "markdown",
   "metadata": {},
   "source": [
    "## Consumidores Mais Populares (Top 5)"
   ]
  },
  {
   "cell_type": "code",
   "execution_count": 121,
   "metadata": {
    "collapsed": true
   },
   "outputs": [
    {
     "name": "stdout",
     "output_type": "stream",
     "text": [
      "            Item ID         Valor            \n",
      "              count Media P Venda Valor Total\n",
      "Login                                        \n",
      "Eoda93            3      3.860000       11.58\n",
      "Haellysu29        3      4.243333       12.73\n",
      "Mindimnya67       4      3.185000       12.74\n",
      "Saedue76          4      3.390000       13.56\n",
      "Undirrala66       5      3.412000       17.06\n",
      "\n",
      "                              Item ID\n",
      "Nome do Item                         \n",
      "Striker                             2\n",
      "Blood Infused Guardian              1\n",
      "Blood-Forged Skeletal Spine         1\n",
      "Thunderfury Scimitar                1\n",
      "Thorn, Satchel of Dark Souls        1\n"
     ]
    },
    {
     "name": "stderr",
     "output_type": "stream",
     "text": [
      "C:\\Users\\user\\Anaconda3\\lib\\site-packages\\pandas\\core\\groupby\\groupby.py:4656: FutureWarning: using a dict with renaming is deprecated and will be removed in a future version\n",
      "  return super(DataFrameGroupBy, self).aggregate(arg, *args, **kwargs)\n"
     ]
    }
   ],
   "source": [
    "# Identifique os 5 principais compradores pelo valor total de compra e, em seguida, liste (em uma tabela):\n",
    "# Login\n",
    "# Número de compras\n",
    "# Preço médio de compra\n",
    "# Valor Total de Compra\n",
    "# Itens mais populares\n",
    "fileCompradores = pd.read_json(load_file, orient = 'records')\n",
    "fileCompradores.head()\n",
    "\n",
    "clienteMaiorValor = fileCompradores.copy()\n",
    "\n",
    "# Identifica os Top 5 Clientes\n",
    "clienteMaiorValor = clienteMaiorValor.groupby('Login').sum()[['Valor']].sort_values(['Valor'], ascending=False)\n",
    "top5ClienteMaiorValor = clienteMaiorValor[:5]\n",
    "# Precisa resetar o Indice para poder trabalhar com o DataFrame\n",
    "top5ClienteMaiorValor.reset_index(inplace=True)\n",
    "top5ClienteMaiorValor = fileCompradores.loc[fileCompradores['Login'].isin([x for x in top5ClienteMaiorValor.Login])]\n",
    "\n",
    "print(top5ClienteMaiorValor.groupby('Login').agg({\"Item ID\": \"count\", \n",
    "                                            \"Valor\": {\"Media P Venda\": \"mean\", \n",
    "                                                      \"Valor Total\": \"sum\"}}) )\n",
    "\n",
    "\n",
    "# Itens mais populares\n",
    "print()\n",
    "items5Populares = top5ClienteMaiorValor.copy()\n",
    "items5Populares.reset_index(inplace=True)\n",
    "print(items5Populares.groupby('Nome do Item').count()[['Item ID']].sort_values(['Item ID'], ascending=False)[:5])"
   ]
  },
  {
   "cell_type": "markdown",
   "metadata": {},
   "source": [
    "## Itens Mais Populares"
   ]
  },
  {
   "cell_type": "code",
   "execution_count": 140,
   "metadata": {
    "collapsed": true
   },
   "outputs": [
    {
     "data": {
      "text/html": [
       "<div>\n",
       "<style scoped>\n",
       "    .dataframe tbody tr th:only-of-type {\n",
       "        vertical-align: middle;\n",
       "    }\n",
       "\n",
       "    .dataframe tbody tr th {\n",
       "        vertical-align: top;\n",
       "    }\n",
       "\n",
       "    .dataframe thead th {\n",
       "        text-align: right;\n",
       "    }\n",
       "</style>\n",
       "<table border=\"1\" class=\"dataframe\">\n",
       "  <thead>\n",
       "    <tr style=\"text-align: right;\">\n",
       "      <th></th>\n",
       "      <th></th>\n",
       "      <th></th>\n",
       "      <th>Valor_Qtd_Compras</th>\n",
       "      <th>Valor_Valor_Total</th>\n",
       "    </tr>\n",
       "    <tr>\n",
       "      <th>Item ID</th>\n",
       "      <th>Nome do Item</th>\n",
       "      <th>Valor</th>\n",
       "      <th></th>\n",
       "      <th></th>\n",
       "    </tr>\n",
       "  </thead>\n",
       "  <tbody>\n",
       "    <tr>\n",
       "      <th>39</th>\n",
       "      <th>Betrayal, Whisper of Grieving Widows</th>\n",
       "      <th>2.35</th>\n",
       "      <td>11</td>\n",
       "      <td>25.85</td>\n",
       "    </tr>\n",
       "    <tr>\n",
       "      <th>84</th>\n",
       "      <th>Arcane Gem</th>\n",
       "      <th>2.23</th>\n",
       "      <td>11</td>\n",
       "      <td>24.53</td>\n",
       "    </tr>\n",
       "    <tr>\n",
       "      <th>31</th>\n",
       "      <th>Trickster</th>\n",
       "      <th>2.07</th>\n",
       "      <td>9</td>\n",
       "      <td>18.63</td>\n",
       "    </tr>\n",
       "    <tr>\n",
       "      <th>175</th>\n",
       "      <th>Woeful Adamantite Claymore</th>\n",
       "      <th>1.24</th>\n",
       "      <td>9</td>\n",
       "      <td>11.16</td>\n",
       "    </tr>\n",
       "    <tr>\n",
       "      <th>13</th>\n",
       "      <th>Serenity</th>\n",
       "      <th>1.49</th>\n",
       "      <td>9</td>\n",
       "      <td>13.41</td>\n",
       "    </tr>\n",
       "  </tbody>\n",
       "</table>\n",
       "</div>"
      ],
      "text/plain": [
       "                                                    Valor_Qtd_Compras  \\\n",
       "Item ID Nome do Item                         Valor                      \n",
       "39      Betrayal, Whisper of Grieving Widows 2.35                  11   \n",
       "84      Arcane Gem                           2.23                  11   \n",
       "31      Trickster                            2.07                   9   \n",
       "175     Woeful Adamantite Claymore           1.24                   9   \n",
       "13      Serenity                             1.49                   9   \n",
       "\n",
       "                                                    Valor_Valor_Total  \n",
       "Item ID Nome do Item                         Valor                     \n",
       "39      Betrayal, Whisper of Grieving Widows 2.35               25.85  \n",
       "84      Arcane Gem                           2.23               24.53  \n",
       "31      Trickster                            2.07               18.63  \n",
       "175     Woeful Adamantite Claymore           1.24               11.16  \n",
       "13      Serenity                             1.49               13.41  "
      ]
     },
     "execution_count": 140,
     "metadata": {},
     "output_type": "execute_result"
    }
   ],
   "source": [
    "# Identifique os 5 itens mais populares por contagem de compras e, em seguida, liste (em uma tabela):\n",
    "# ID do item\n",
    "# Nome do item\n",
    "# Número de compras\n",
    "# Preço do item\n",
    "# Valor Total de Compra\n",
    "# Itens mais lucrativos\n",
    "\n",
    "itemsPopularesQTD = purchase_file.copy()\n",
    "top5Items = itemsPopularesQTD.groupby(['Item ID', 'Nome do Item', 'Valor']).agg({\"Valor\": {\"Qtd_Compras\": \"count\", \n",
    "                                                                  \"Valor_Total\": \"sum\"}  })# .sort_values(['Qtd Compras'], ascending=False)\n",
    "# Renomeia as colunas\n",
    "top5Items.columns = [\"_\".join(x) for x in top5Items.columns.ravel()]\n",
    "\n",
    "top5Items = top5Items.sort_values(['Valor_Qtd_Compras'], ascending=False)[:5]\n",
    "\n",
    "# print(top5Items)\n",
    "top5Items"
   ]
  },
  {
   "cell_type": "markdown",
   "metadata": {},
   "source": [
    "## Itens Mais Lucrativos"
   ]
  },
  {
   "cell_type": "code",
   "execution_count": 146,
   "metadata": {
    "collapsed": true
   },
   "outputs": [
    {
     "data": {
      "text/html": [
       "<div>\n",
       "<style scoped>\n",
       "    .dataframe tbody tr th:only-of-type {\n",
       "        vertical-align: middle;\n",
       "    }\n",
       "\n",
       "    .dataframe tbody tr th {\n",
       "        vertical-align: top;\n",
       "    }\n",
       "\n",
       "    .dataframe thead th {\n",
       "        text-align: right;\n",
       "    }\n",
       "</style>\n",
       "<table border=\"1\" class=\"dataframe\">\n",
       "  <thead>\n",
       "    <tr style=\"text-align: right;\">\n",
       "      <th></th>\n",
       "      <th></th>\n",
       "      <th></th>\n",
       "      <th>Valor_QTD_Compras</th>\n",
       "      <th>Valor_Total</th>\n",
       "    </tr>\n",
       "    <tr>\n",
       "      <th>Item ID</th>\n",
       "      <th>Nome do Item</th>\n",
       "      <th>Valor</th>\n",
       "      <th></th>\n",
       "      <th></th>\n",
       "    </tr>\n",
       "  </thead>\n",
       "  <tbody>\n",
       "    <tr>\n",
       "      <th>34</th>\n",
       "      <th>Retribution Axe</th>\n",
       "      <th>4.14</th>\n",
       "      <td>9</td>\n",
       "      <td>37.26</td>\n",
       "    </tr>\n",
       "    <tr>\n",
       "      <th>115</th>\n",
       "      <th>Spectral Diamond Doomblade</th>\n",
       "      <th>4.25</th>\n",
       "      <td>7</td>\n",
       "      <td>29.75</td>\n",
       "    </tr>\n",
       "    <tr>\n",
       "      <th>32</th>\n",
       "      <th>Orenmir</th>\n",
       "      <th>4.95</th>\n",
       "      <td>6</td>\n",
       "      <td>29.70</td>\n",
       "    </tr>\n",
       "    <tr>\n",
       "      <th>103</th>\n",
       "      <th>Singed Scalpel</th>\n",
       "      <th>4.87</th>\n",
       "      <td>6</td>\n",
       "      <td>29.22</td>\n",
       "    </tr>\n",
       "    <tr>\n",
       "      <th>107</th>\n",
       "      <th>Splitter, Foe Of Subtlety</th>\n",
       "      <th>3.61</th>\n",
       "      <td>8</td>\n",
       "      <td>28.88</td>\n",
       "    </tr>\n",
       "  </tbody>\n",
       "</table>\n",
       "</div>"
      ],
      "text/plain": [
       "                                          Valor_QTD_Compras  Valor_Total\n",
       "Item ID Nome do Item               Valor                                \n",
       "34      Retribution Axe            4.14                   9        37.26\n",
       "115     Spectral Diamond Doomblade 4.25                   7        29.75\n",
       "32      Orenmir                    4.95                   6        29.70\n",
       "103     Singed Scalpel             4.87                   6        29.22\n",
       "107     Splitter, Foe Of Subtlety  3.61                   8        28.88"
      ]
     },
     "execution_count": 146,
     "metadata": {},
     "output_type": "execute_result"
    }
   ],
   "source": [
    "# Implemente aqui sua solução\n",
    "# Identifique os 5 itens mais lucrativos pelo valor total de compra e, em seguida, liste (em uma tabela):\n",
    "# ID do item\n",
    "# Nome do item\n",
    "# Número de compras\n",
    "# Preço do item\n",
    "# Valor Total de Compra\n",
    "\n",
    "ItemsPopularesValor = purchase_file.copy()\n",
    "\n",
    "top5Valor = ItemsPopularesValor.groupby(['Item ID', 'Nome do Item', 'Valor']).agg({\"Valor\": {\"QTD_Compras\": \"count\",\n",
    "                                                                                            \"Total\": \"sum\"} } )\n",
    "# Renomeia as Colunas\n",
    "top5Valor.columns = [\"_\".join(x) for x in top5Valor.columns.ravel()]\n",
    "\n",
    "top5Valor = top5Valor.sort_values(['Valor_Total'], ascending=False)[:5]\n",
    "\n",
    "top5Valor\n"
   ]
  },
  {
   "cell_type": "markdown",
   "metadata": {},
   "source": [
    "## Fim"
   ]
  },
  {
   "cell_type": "markdown",
   "metadata": {},
   "source": [
    "### Obrigado - Data Science Academy - <a href=\"http://facebook.com/dsacademybr\">facebook.com/dsacademybr</a>"
   ]
  }
 ],
 "metadata": {
  "kernelspec": {
   "display_name": "Python 3",
   "language": "python",
   "name": "python3"
  },
  "language_info": {
   "codemirror_mode": {
    "name": "ipython",
    "version": 3
   },
   "file_extension": ".py",
   "mimetype": "text/x-python",
   "name": "python",
   "nbconvert_exporter": "python",
   "pygments_lexer": "ipython3",
   "version": "3.7.1"
  }
 },
 "nbformat": 4,
 "nbformat_minor": 2
}
